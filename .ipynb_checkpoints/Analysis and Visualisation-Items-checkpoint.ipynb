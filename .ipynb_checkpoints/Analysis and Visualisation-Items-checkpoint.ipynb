{
 "cells": [
  {
   "cell_type": "code",
   "execution_count": 31,
   "id": "d8d07e48",
   "metadata": {},
   "outputs": [],
   "source": [
    "#Import the necessary libraries\n",
    "import pandas as pd\n",
    "import matplotlib.pyplot as plt\n",
    "from matplotlib.pyplot import figure\n",
    "from sklearn.preprocessing import StandardScaler\n",
    "import numpy as np\n",
    "import seaborn as sns\n",
    "%matplotlib inline"
   ]
  },
  {
   "cell_type": "code",
   "execution_count": 32,
   "id": "25860cf3",
   "metadata": {},
   "outputs": [
    {
     "data": {
      "text/html": [
       "<div>\n",
       "<style scoped>\n",
       "    .dataframe tbody tr th:only-of-type {\n",
       "        vertical-align: middle;\n",
       "    }\n",
       "\n",
       "    .dataframe tbody tr th {\n",
       "        vertical-align: top;\n",
       "    }\n",
       "\n",
       "    .dataframe thead th {\n",
       "        text-align: right;\n",
       "    }\n",
       "</style>\n",
       "<table border=\"1\" class=\"dataframe\">\n",
       "  <thead>\n",
       "    <tr style=\"text-align: right;\">\n",
       "      <th></th>\n",
       "      <th>Item Number</th>\n",
       "      <th>Monetary</th>\n",
       "      <th>Frequency</th>\n",
       "      <th>Recent_Date</th>\n",
       "    </tr>\n",
       "  </thead>\n",
       "  <tbody>\n",
       "    <tr>\n",
       "      <th>0</th>\n",
       "      <td>81206</td>\n",
       "      <td>1436789.41</td>\n",
       "      <td>30256</td>\n",
       "      <td>2020-09-30</td>\n",
       "    </tr>\n",
       "    <tr>\n",
       "      <th>1</th>\n",
       "      <td>22121</td>\n",
       "      <td>589275.90</td>\n",
       "      <td>7613</td>\n",
       "      <td>2020-09-30</td>\n",
       "    </tr>\n",
       "    <tr>\n",
       "      <th>2</th>\n",
       "      <td>57051</td>\n",
       "      <td>267184.04</td>\n",
       "      <td>2214</td>\n",
       "      <td>2020-09-29</td>\n",
       "    </tr>\n",
       "    <tr>\n",
       "      <th>3</th>\n",
       "      <td>4032</td>\n",
       "      <td>4567.50</td>\n",
       "      <td>63</td>\n",
       "      <td>2015-12-16</td>\n",
       "    </tr>\n",
       "    <tr>\n",
       "      <th>4</th>\n",
       "      <td>33783</td>\n",
       "      <td>22316.83</td>\n",
       "      <td>329</td>\n",
       "      <td>2014-10-01</td>\n",
       "    </tr>\n",
       "    <tr>\n",
       "      <th>...</th>\n",
       "      <td>...</td>\n",
       "      <td>...</td>\n",
       "      <td>...</td>\n",
       "      <td>...</td>\n",
       "    </tr>\n",
       "    <tr>\n",
       "      <th>9692</th>\n",
       "      <td>995215</td>\n",
       "      <td>320.61</td>\n",
       "      <td>4</td>\n",
       "      <td>2017-12-13</td>\n",
       "    </tr>\n",
       "    <tr>\n",
       "      <th>9693</th>\n",
       "      <td>995228</td>\n",
       "      <td>677.40</td>\n",
       "      <td>2</td>\n",
       "      <td>2017-09-26</td>\n",
       "    </tr>\n",
       "    <tr>\n",
       "      <th>9694</th>\n",
       "      <td>964469</td>\n",
       "      <td>132.00</td>\n",
       "      <td>2</td>\n",
       "      <td>2018-05-14</td>\n",
       "    </tr>\n",
       "    <tr>\n",
       "      <th>9695</th>\n",
       "      <td>904613</td>\n",
       "      <td>1933.20</td>\n",
       "      <td>2</td>\n",
       "      <td>2018-05-31</td>\n",
       "    </tr>\n",
       "    <tr>\n",
       "      <th>9696</th>\n",
       "      <td>903759</td>\n",
       "      <td>185.82</td>\n",
       "      <td>1</td>\n",
       "      <td>2012-07-26</td>\n",
       "    </tr>\n",
       "  </tbody>\n",
       "</table>\n",
       "<p>9697 rows × 4 columns</p>\n",
       "</div>"
      ],
      "text/plain": [
       "     Item Number    Monetary  Frequency Recent_Date\n",
       "0          81206  1436789.41      30256  2020-09-30\n",
       "1          22121   589275.90       7613  2020-09-30\n",
       "2          57051   267184.04       2214  2020-09-29\n",
       "3           4032     4567.50         63  2015-12-16\n",
       "4          33783    22316.83        329  2014-10-01\n",
       "...          ...         ...        ...         ...\n",
       "9692      995215      320.61          4  2017-12-13\n",
       "9693      995228      677.40          2  2017-09-26\n",
       "9694      964469      132.00          2  2018-05-14\n",
       "9695      904613     1933.20          2  2018-05-31\n",
       "9696      903759      185.82          1  2012-07-26\n",
       "\n",
       "[9697 rows x 4 columns]"
      ]
     },
     "execution_count": 32,
     "metadata": {},
     "output_type": "execute_result"
    }
   ],
   "source": [
    "# Read in mapreduce output csv as a dataframe\n",
    "df = pd.read_csv(\"Liquor_sales_reduced_items.csv\",index_col=0)\n",
    "df"
   ]
  },
  {
   "cell_type": "code",
   "execution_count": 33,
   "id": "5af4c77a",
   "metadata": {},
   "outputs": [
    {
     "data": {
      "text/plain": [
       "Item Number     object\n",
       "Monetary       float64\n",
       "Frequency        int64\n",
       "Recent_Date     object\n",
       "dtype: object"
      ]
     },
     "execution_count": 33,
     "metadata": {},
     "output_type": "execute_result"
    }
   ],
   "source": [
    "df.dtypes"
   ]
  },
  {
   "cell_type": "code",
   "execution_count": 34,
   "id": "59034bd1",
   "metadata": {},
   "outputs": [],
   "source": [
    "#Change the format of the Recenta date column for processing\n",
    "df[\"Recent_Date\"] = pd.to_datetime(df[\"Recent_Date\"],format = \"%Y/%m/%d\")"
   ]
  },
  {
   "cell_type": "code",
   "execution_count": 35,
   "id": "70683919",
   "metadata": {},
   "outputs": [
    {
     "data": {
      "text/plain": [
       "Timestamp('2020-09-30 00:00:00')"
      ]
     },
     "execution_count": 35,
     "metadata": {},
     "output_type": "execute_result"
    }
   ],
   "source": [
    "df[\"Recent_Date\"].max()"
   ]
  },
  {
   "cell_type": "code",
   "execution_count": 36,
   "id": "63639adb",
   "metadata": {},
   "outputs": [
    {
     "data": {
      "text/html": [
       "<div>\n",
       "<style scoped>\n",
       "    .dataframe tbody tr th:only-of-type {\n",
       "        vertical-align: middle;\n",
       "    }\n",
       "\n",
       "    .dataframe tbody tr th {\n",
       "        vertical-align: top;\n",
       "    }\n",
       "\n",
       "    .dataframe thead th {\n",
       "        text-align: right;\n",
       "    }\n",
       "</style>\n",
       "<table border=\"1\" class=\"dataframe\">\n",
       "  <thead>\n",
       "    <tr style=\"text-align: right;\">\n",
       "      <th></th>\n",
       "      <th>Item Number</th>\n",
       "      <th>Monetary</th>\n",
       "      <th>Frequency</th>\n",
       "      <th>Recent_Date</th>\n",
       "    </tr>\n",
       "  </thead>\n",
       "  <tbody>\n",
       "    <tr>\n",
       "      <th>0</th>\n",
       "      <td>81206</td>\n",
       "      <td>1436789.41</td>\n",
       "      <td>30256</td>\n",
       "      <td>2020-09-30</td>\n",
       "    </tr>\n",
       "    <tr>\n",
       "      <th>1</th>\n",
       "      <td>22121</td>\n",
       "      <td>589275.90</td>\n",
       "      <td>7613</td>\n",
       "      <td>2020-09-30</td>\n",
       "    </tr>\n",
       "    <tr>\n",
       "      <th>2</th>\n",
       "      <td>57051</td>\n",
       "      <td>267184.04</td>\n",
       "      <td>2214</td>\n",
       "      <td>2020-09-29</td>\n",
       "    </tr>\n",
       "    <tr>\n",
       "      <th>5</th>\n",
       "      <td>89274</td>\n",
       "      <td>254006.31</td>\n",
       "      <td>3643</td>\n",
       "      <td>2020-09-30</td>\n",
       "    </tr>\n",
       "    <tr>\n",
       "      <th>6</th>\n",
       "      <td>73596</td>\n",
       "      <td>92748.40</td>\n",
       "      <td>2246</td>\n",
       "      <td>2018-08-06</td>\n",
       "    </tr>\n",
       "    <tr>\n",
       "      <th>...</th>\n",
       "      <td>...</td>\n",
       "      <td>...</td>\n",
       "      <td>...</td>\n",
       "      <td>...</td>\n",
       "    </tr>\n",
       "    <tr>\n",
       "      <th>9687</th>\n",
       "      <td>995001</td>\n",
       "      <td>855.12</td>\n",
       "      <td>3</td>\n",
       "      <td>2018-07-19</td>\n",
       "    </tr>\n",
       "    <tr>\n",
       "      <th>9688</th>\n",
       "      <td>916661</td>\n",
       "      <td>1656.00</td>\n",
       "      <td>3</td>\n",
       "      <td>2018-01-23</td>\n",
       "    </tr>\n",
       "    <tr>\n",
       "      <th>9690</th>\n",
       "      <td>64343</td>\n",
       "      <td>975.00</td>\n",
       "      <td>13</td>\n",
       "      <td>2018-07-16</td>\n",
       "    </tr>\n",
       "    <tr>\n",
       "      <th>9694</th>\n",
       "      <td>964469</td>\n",
       "      <td>132.00</td>\n",
       "      <td>2</td>\n",
       "      <td>2018-05-14</td>\n",
       "    </tr>\n",
       "    <tr>\n",
       "      <th>9695</th>\n",
       "      <td>904613</td>\n",
       "      <td>1933.20</td>\n",
       "      <td>2</td>\n",
       "      <td>2018-05-31</td>\n",
       "    </tr>\n",
       "  </tbody>\n",
       "</table>\n",
       "<p>5670 rows × 4 columns</p>\n",
       "</div>"
      ],
      "text/plain": [
       "     Item Number    Monetary  Frequency Recent_Date\n",
       "0          81206  1436789.41      30256  2020-09-30\n",
       "1          22121   589275.90       7613  2020-09-30\n",
       "2          57051   267184.04       2214  2020-09-29\n",
       "5          89274   254006.31       3643  2020-09-30\n",
       "6          73596    92748.40       2246  2018-08-06\n",
       "...          ...         ...        ...         ...\n",
       "9687      995001      855.12          3  2018-07-19\n",
       "9688      916661     1656.00          3  2018-01-23\n",
       "9690       64343      975.00         13  2018-07-16\n",
       "9694      964469      132.00          2  2018-05-14\n",
       "9695      904613     1933.20          2  2018-05-31\n",
       "\n",
       "[5670 rows x 4 columns]"
      ]
     },
     "execution_count": 36,
     "metadata": {},
     "output_type": "execute_result"
    }
   ],
   "source": [
    "# Limit data from 2018 to 2020\n",
    "df = df[df[\"Recent_Date\"]>\"2018-01-01\"]\n",
    "df"
   ]
  },
  {
   "cell_type": "code",
   "execution_count": 37,
   "id": "43d3d4a8",
   "metadata": {},
   "outputs": [
    {
     "name": "stderr",
     "output_type": "stream",
     "text": [
      "<ipython-input-37-1503f613fc32>:5: SettingWithCopyWarning:\n",
      "\n",
      "\n",
      "A value is trying to be set on a copy of a slice from a DataFrame.\n",
      "Try using .loc[row_indexer,col_indexer] = value instead\n",
      "\n",
      "See the caveats in the documentation: https://pandas.pydata.org/pandas-docs/stable/user_guide/indexing.html#returning-a-view-versus-a-copy\n",
      "\n",
      "<ipython-input-37-1503f613fc32>:7: SettingWithCopyWarning:\n",
      "\n",
      "\n",
      "A value is trying to be set on a copy of a slice from a DataFrame.\n",
      "Try using .loc[row_indexer,col_indexer] = value instead\n",
      "\n",
      "See the caveats in the documentation: https://pandas.pydata.org/pandas-docs/stable/user_guide/indexing.html#returning-a-view-versus-a-copy\n",
      "\n"
     ]
    }
   ],
   "source": [
    "# Since we have 2 years of data, we choose 2 days after the end of September 2020 as a time stamp.The last\n",
    "# purchase date made per user is subtracted from the time stamp to get the recency value.\n",
    "import datetime as dt\n",
    "study_date = dt.datetime(2020,10,2)\n",
    "df[\"Recency\"] = study_date - df[\"Recent_Date\"]\n",
    "df['Recency'].astype('timedelta64[D]')\n",
    "df['Recency']=df['Recency'] / np.timedelta64(1, 'D')"
   ]
  },
  {
   "cell_type": "code",
   "execution_count": 38,
   "id": "8323e169",
   "metadata": {},
   "outputs": [
    {
     "data": {
      "text/html": [
       "<div>\n",
       "<style scoped>\n",
       "    .dataframe tbody tr th:only-of-type {\n",
       "        vertical-align: middle;\n",
       "    }\n",
       "\n",
       "    .dataframe tbody tr th {\n",
       "        vertical-align: top;\n",
       "    }\n",
       "\n",
       "    .dataframe thead th {\n",
       "        text-align: right;\n",
       "    }\n",
       "</style>\n",
       "<table border=\"1\" class=\"dataframe\">\n",
       "  <thead>\n",
       "    <tr style=\"text-align: right;\">\n",
       "      <th></th>\n",
       "      <th>Item Number</th>\n",
       "      <th>Monetary</th>\n",
       "      <th>Frequency</th>\n",
       "      <th>Recent_Date</th>\n",
       "      <th>Recency</th>\n",
       "    </tr>\n",
       "  </thead>\n",
       "  <tbody>\n",
       "    <tr>\n",
       "      <th>0</th>\n",
       "      <td>81206</td>\n",
       "      <td>1436789.41</td>\n",
       "      <td>30256</td>\n",
       "      <td>2020-09-30</td>\n",
       "      <td>2.0</td>\n",
       "    </tr>\n",
       "    <tr>\n",
       "      <th>1</th>\n",
       "      <td>22121</td>\n",
       "      <td>589275.90</td>\n",
       "      <td>7613</td>\n",
       "      <td>2020-09-30</td>\n",
       "      <td>2.0</td>\n",
       "    </tr>\n",
       "    <tr>\n",
       "      <th>2</th>\n",
       "      <td>57051</td>\n",
       "      <td>267184.04</td>\n",
       "      <td>2214</td>\n",
       "      <td>2020-09-29</td>\n",
       "      <td>3.0</td>\n",
       "    </tr>\n",
       "    <tr>\n",
       "      <th>5</th>\n",
       "      <td>89274</td>\n",
       "      <td>254006.31</td>\n",
       "      <td>3643</td>\n",
       "      <td>2020-09-30</td>\n",
       "      <td>2.0</td>\n",
       "    </tr>\n",
       "    <tr>\n",
       "      <th>6</th>\n",
       "      <td>73596</td>\n",
       "      <td>92748.40</td>\n",
       "      <td>2246</td>\n",
       "      <td>2018-08-06</td>\n",
       "      <td>788.0</td>\n",
       "    </tr>\n",
       "    <tr>\n",
       "      <th>...</th>\n",
       "      <td>...</td>\n",
       "      <td>...</td>\n",
       "      <td>...</td>\n",
       "      <td>...</td>\n",
       "      <td>...</td>\n",
       "    </tr>\n",
       "    <tr>\n",
       "      <th>9687</th>\n",
       "      <td>995001</td>\n",
       "      <td>855.12</td>\n",
       "      <td>3</td>\n",
       "      <td>2018-07-19</td>\n",
       "      <td>806.0</td>\n",
       "    </tr>\n",
       "    <tr>\n",
       "      <th>9688</th>\n",
       "      <td>916661</td>\n",
       "      <td>1656.00</td>\n",
       "      <td>3</td>\n",
       "      <td>2018-01-23</td>\n",
       "      <td>983.0</td>\n",
       "    </tr>\n",
       "    <tr>\n",
       "      <th>9690</th>\n",
       "      <td>64343</td>\n",
       "      <td>975.00</td>\n",
       "      <td>13</td>\n",
       "      <td>2018-07-16</td>\n",
       "      <td>809.0</td>\n",
       "    </tr>\n",
       "    <tr>\n",
       "      <th>9694</th>\n",
       "      <td>964469</td>\n",
       "      <td>132.00</td>\n",
       "      <td>2</td>\n",
       "      <td>2018-05-14</td>\n",
       "      <td>872.0</td>\n",
       "    </tr>\n",
       "    <tr>\n",
       "      <th>9695</th>\n",
       "      <td>904613</td>\n",
       "      <td>1933.20</td>\n",
       "      <td>2</td>\n",
       "      <td>2018-05-31</td>\n",
       "      <td>855.0</td>\n",
       "    </tr>\n",
       "  </tbody>\n",
       "</table>\n",
       "<p>5670 rows × 5 columns</p>\n",
       "</div>"
      ],
      "text/plain": [
       "     Item Number    Monetary  Frequency Recent_Date  Recency\n",
       "0          81206  1436789.41      30256  2020-09-30      2.0\n",
       "1          22121   589275.90       7613  2020-09-30      2.0\n",
       "2          57051   267184.04       2214  2020-09-29      3.0\n",
       "5          89274   254006.31       3643  2020-09-30      2.0\n",
       "6          73596    92748.40       2246  2018-08-06    788.0\n",
       "...          ...         ...        ...         ...      ...\n",
       "9687      995001      855.12          3  2018-07-19    806.0\n",
       "9688      916661     1656.00          3  2018-01-23    983.0\n",
       "9690       64343      975.00         13  2018-07-16    809.0\n",
       "9694      964469      132.00          2  2018-05-14    872.0\n",
       "9695      904613     1933.20          2  2018-05-31    855.0\n",
       "\n",
       "[5670 rows x 5 columns]"
      ]
     },
     "execution_count": 38,
     "metadata": {},
     "output_type": "execute_result"
    }
   ],
   "source": [
    "# Final RFM frame\n",
    "df"
   ]
  },
  {
   "cell_type": "code",
   "execution_count": 39,
   "id": "3feec96f",
   "metadata": {},
   "outputs": [],
   "source": [
    "#Selection of necessary columns\n",
    "finaldf = df[[\"Item Number\",\"Monetary\",\"Frequency\",\"Recency\"]]"
   ]
  },
  {
   "cell_type": "code",
   "execution_count": 40,
   "id": "d140f097",
   "metadata": {},
   "outputs": [
    {
     "data": {
      "text/html": [
       "<div>\n",
       "<style scoped>\n",
       "    .dataframe tbody tr th:only-of-type {\n",
       "        vertical-align: middle;\n",
       "    }\n",
       "\n",
       "    .dataframe tbody tr th {\n",
       "        vertical-align: top;\n",
       "    }\n",
       "\n",
       "    .dataframe thead th {\n",
       "        text-align: right;\n",
       "    }\n",
       "</style>\n",
       "<table border=\"1\" class=\"dataframe\">\n",
       "  <thead>\n",
       "    <tr style=\"text-align: right;\">\n",
       "      <th></th>\n",
       "      <th>Item Number</th>\n",
       "      <th>Monetary</th>\n",
       "      <th>Frequency</th>\n",
       "      <th>Recency</th>\n",
       "    </tr>\n",
       "  </thead>\n",
       "  <tbody>\n",
       "    <tr>\n",
       "      <th>0</th>\n",
       "      <td>81206</td>\n",
       "      <td>1436789.41</td>\n",
       "      <td>30256</td>\n",
       "      <td>2.0</td>\n",
       "    </tr>\n",
       "    <tr>\n",
       "      <th>1</th>\n",
       "      <td>22121</td>\n",
       "      <td>589275.90</td>\n",
       "      <td>7613</td>\n",
       "      <td>2.0</td>\n",
       "    </tr>\n",
       "    <tr>\n",
       "      <th>2</th>\n",
       "      <td>57051</td>\n",
       "      <td>267184.04</td>\n",
       "      <td>2214</td>\n",
       "      <td>3.0</td>\n",
       "    </tr>\n",
       "    <tr>\n",
       "      <th>5</th>\n",
       "      <td>89274</td>\n",
       "      <td>254006.31</td>\n",
       "      <td>3643</td>\n",
       "      <td>2.0</td>\n",
       "    </tr>\n",
       "    <tr>\n",
       "      <th>6</th>\n",
       "      <td>73596</td>\n",
       "      <td>92748.40</td>\n",
       "      <td>2246</td>\n",
       "      <td>788.0</td>\n",
       "    </tr>\n",
       "    <tr>\n",
       "      <th>...</th>\n",
       "      <td>...</td>\n",
       "      <td>...</td>\n",
       "      <td>...</td>\n",
       "      <td>...</td>\n",
       "    </tr>\n",
       "    <tr>\n",
       "      <th>9687</th>\n",
       "      <td>995001</td>\n",
       "      <td>855.12</td>\n",
       "      <td>3</td>\n",
       "      <td>806.0</td>\n",
       "    </tr>\n",
       "    <tr>\n",
       "      <th>9688</th>\n",
       "      <td>916661</td>\n",
       "      <td>1656.00</td>\n",
       "      <td>3</td>\n",
       "      <td>983.0</td>\n",
       "    </tr>\n",
       "    <tr>\n",
       "      <th>9690</th>\n",
       "      <td>64343</td>\n",
       "      <td>975.00</td>\n",
       "      <td>13</td>\n",
       "      <td>809.0</td>\n",
       "    </tr>\n",
       "    <tr>\n",
       "      <th>9694</th>\n",
       "      <td>964469</td>\n",
       "      <td>132.00</td>\n",
       "      <td>2</td>\n",
       "      <td>872.0</td>\n",
       "    </tr>\n",
       "    <tr>\n",
       "      <th>9695</th>\n",
       "      <td>904613</td>\n",
       "      <td>1933.20</td>\n",
       "      <td>2</td>\n",
       "      <td>855.0</td>\n",
       "    </tr>\n",
       "  </tbody>\n",
       "</table>\n",
       "<p>5670 rows × 4 columns</p>\n",
       "</div>"
      ],
      "text/plain": [
       "     Item Number    Monetary  Frequency  Recency\n",
       "0          81206  1436789.41      30256      2.0\n",
       "1          22121   589275.90       7613      2.0\n",
       "2          57051   267184.04       2214      3.0\n",
       "5          89274   254006.31       3643      2.0\n",
       "6          73596    92748.40       2246    788.0\n",
       "...          ...         ...        ...      ...\n",
       "9687      995001      855.12          3    806.0\n",
       "9688      916661     1656.00          3    983.0\n",
       "9690       64343      975.00         13    809.0\n",
       "9694      964469      132.00          2    872.0\n",
       "9695      904613     1933.20          2    855.0\n",
       "\n",
       "[5670 rows x 4 columns]"
      ]
     },
     "execution_count": 40,
     "metadata": {},
     "output_type": "execute_result"
    }
   ],
   "source": [
    "finaldf"
   ]
  },
  {
   "cell_type": "code",
   "execution_count": 41,
   "id": "c91971fb",
   "metadata": {},
   "outputs": [
    {
     "data": {
      "text/html": [
       "<div>\n",
       "<style scoped>\n",
       "    .dataframe tbody tr th:only-of-type {\n",
       "        vertical-align: middle;\n",
       "    }\n",
       "\n",
       "    .dataframe tbody tr th {\n",
       "        vertical-align: top;\n",
       "    }\n",
       "\n",
       "    .dataframe thead th {\n",
       "        text-align: right;\n",
       "    }\n",
       "</style>\n",
       "<table border=\"1\" class=\"dataframe\">\n",
       "  <thead>\n",
       "    <tr style=\"text-align: right;\">\n",
       "      <th></th>\n",
       "      <th>Item Number</th>\n",
       "      <th>Monetary</th>\n",
       "      <th>Frequency</th>\n",
       "      <th>Recency</th>\n",
       "    </tr>\n",
       "  </thead>\n",
       "  <tbody>\n",
       "    <tr>\n",
       "      <th>3257</th>\n",
       "      <td>11788</td>\n",
       "      <td>74647526.91</td>\n",
       "      <td>198310</td>\n",
       "      <td>2.0</td>\n",
       "    </tr>\n",
       "    <tr>\n",
       "      <th>824</th>\n",
       "      <td>36308</td>\n",
       "      <td>29786299.86</td>\n",
       "      <td>186130</td>\n",
       "      <td>2.0</td>\n",
       "    </tr>\n",
       "    <tr>\n",
       "      <th>753</th>\n",
       "      <td>35918</td>\n",
       "      <td>13996746.95</td>\n",
       "      <td>140095</td>\n",
       "      <td>2.0</td>\n",
       "    </tr>\n",
       "    <tr>\n",
       "      <th>4243</th>\n",
       "      <td>64858</td>\n",
       "      <td>14912050.68</td>\n",
       "      <td>117184</td>\n",
       "      <td>2.0</td>\n",
       "    </tr>\n",
       "    <tr>\n",
       "      <th>2110</th>\n",
       "      <td>11776</td>\n",
       "      <td>11066523.06</td>\n",
       "      <td>111440</td>\n",
       "      <td>2.0</td>\n",
       "    </tr>\n",
       "    <tr>\n",
       "      <th>103</th>\n",
       "      <td>43336</td>\n",
       "      <td>19940550.02</td>\n",
       "      <td>104671</td>\n",
       "      <td>2.0</td>\n",
       "    </tr>\n",
       "    <tr>\n",
       "      <th>650</th>\n",
       "      <td>36904</td>\n",
       "      <td>7825910.18</td>\n",
       "      <td>99609</td>\n",
       "      <td>2.0</td>\n",
       "    </tr>\n",
       "    <tr>\n",
       "      <th>4806</th>\n",
       "      <td>64866</td>\n",
       "      <td>18687940.11</td>\n",
       "      <td>96586</td>\n",
       "      <td>2.0</td>\n",
       "    </tr>\n",
       "    <tr>\n",
       "      <th>244</th>\n",
       "      <td>36306</td>\n",
       "      <td>6707062.66</td>\n",
       "      <td>95882</td>\n",
       "      <td>2.0</td>\n",
       "    </tr>\n",
       "    <tr>\n",
       "      <th>3670</th>\n",
       "      <td>25608</td>\n",
       "      <td>13649277.07</td>\n",
       "      <td>91837</td>\n",
       "      <td>2.0</td>\n",
       "    </tr>\n",
       "  </tbody>\n",
       "</table>\n",
       "</div>"
      ],
      "text/plain": [
       "     Item Number     Monetary  Frequency  Recency\n",
       "3257       11788  74647526.91     198310      2.0\n",
       "824        36308  29786299.86     186130      2.0\n",
       "753        35918  13996746.95     140095      2.0\n",
       "4243       64858  14912050.68     117184      2.0\n",
       "2110       11776  11066523.06     111440      2.0\n",
       "103        43336  19940550.02     104671      2.0\n",
       "650        36904   7825910.18      99609      2.0\n",
       "4806       64866  18687940.11      96586      2.0\n",
       "244        36306   6707062.66      95882      2.0\n",
       "3670       25608  13649277.07      91837      2.0"
      ]
     },
     "execution_count": 41,
     "metadata": {},
     "output_type": "execute_result"
    }
   ],
   "source": [
    "# determining top 10 Items by Monetary and Frequency\n",
    "Items_top10_byvalue = finaldf.sort_values(by=['Monetary'], ascending=False)\n",
    "Items_top10_byvalue = Items_top10_byvalue[:10]\n",
    "Items_top10_byvalue \n",
    "Items_top10_byFreq = finaldf.sort_values(by=['Frequency'], ascending=False)\n",
    "Items_top10_byFreq = Items_top10_byFreq[:10]\n",
    "Items_top10_byFreq"
   ]
  },
  {
   "cell_type": "code",
   "execution_count": 42,
   "id": "9ed39a0c",
   "metadata": {},
   "outputs": [
    {
     "data": {
      "text/plain": [
       "<AxesSubplot:xlabel='Item Number'>"
      ]
     },
     "execution_count": 42,
     "metadata": {},
     "output_type": "execute_result"
    },
    {
     "data": {
      "text/plain": [
       "<Figure size 960x640 with 0 Axes>"
      ]
     },
     "metadata": {},
     "output_type": "display_data"
    },
    {
     "data": {
      "image/png": "[encoded data removed]",
      "text/plain": [
       "<Figure size 432x288 with 1 Axes>"
      ]
     },
     "metadata": {
      "needs_background": "light"
     },
     "output_type": "display_data"
    }
   ],
   "source": [
    "# Bar plot of Top Items\n",
    "figure(figsize=(12, 8), dpi=80)\n",
    "Items_top10_byvalue.plot(x=\"Item Number\", y=[\"Monetary\"], kind=\"bar\")"
   ]
  },
  {
   "cell_type": "code",
   "execution_count": 43,
   "id": "2734fc98",
   "metadata": {},
   "outputs": [
    {
     "data": {
      "text/plain": [
       "<AxesSubplot:xlabel='Item Number'>"
      ]
     },
     "execution_count": 43,
     "metadata": {},
     "output_type": "execute_result"
    },
    {
     "data": {
      "image/png": "[encoded data removed]",
      "text/plain": [
       "<Figure size 432x288 with 1 Axes>"
      ]
     },
     "metadata": {
      "needs_background": "light"
     },
     "output_type": "display_data"
    }
   ],
   "source": [
    "# Bar plot of top 10 frequent items.\n",
    "Items_top10_byFreq.plot(x=\"Item Number\", y=[\"Frequency\"], kind=\"bar\")"
   ]
  },
  {
   "cell_type": "code",
   "execution_count": 44,
   "id": "d224063b",
   "metadata": {},
   "outputs": [],
   "source": [
    "#Normalise the data for kmeans clustering\n",
    "dfkmeans = finaldf[[\"Monetary\",\"Frequency\",\"Recency\"]]\n",
    "\n",
    "from sklearn.preprocessing import StandardScaler\n",
    "\n",
    "scaled_features = StandardScaler().fit_transform(dfkmeans.values)\n",
    "scaled_features_df = pd.DataFrame(scaled_features, index=dfkmeans.index, columns=dfkmeans.columns)"
   ]
  },
  {
   "cell_type": "code",
   "execution_count": 45,
   "id": "3b2dc5f2",
   "metadata": {},
   "outputs": [
    {
     "data": {
      "text/html": [
       "<div>\n",
       "<style scoped>\n",
       "    .dataframe tbody tr th:only-of-type {\n",
       "        vertical-align: middle;\n",
       "    }\n",
       "\n",
       "    .dataframe tbody tr th {\n",
       "        vertical-align: top;\n",
       "    }\n",
       "\n",
       "    .dataframe thead th {\n",
       "        text-align: right;\n",
       "    }\n",
       "</style>\n",
       "<table border=\"1\" class=\"dataframe\">\n",
       "  <thead>\n",
       "    <tr style=\"text-align: right;\">\n",
       "      <th></th>\n",
       "      <th>Monetary</th>\n",
       "      <th>Frequency</th>\n",
       "      <th>Recency</th>\n",
       "    </tr>\n",
       "  </thead>\n",
       "  <tbody>\n",
       "    <tr>\n",
       "      <th>0</th>\n",
       "      <td>0.437735</td>\n",
       "      <td>2.600455</td>\n",
       "      <td>-0.763462</td>\n",
       "    </tr>\n",
       "    <tr>\n",
       "      <th>1</th>\n",
       "      <td>0.059736</td>\n",
       "      <td>0.412587</td>\n",
       "      <td>-0.763462</td>\n",
       "    </tr>\n",
       "    <tr>\n",
       "      <th>2</th>\n",
       "      <td>-0.083919</td>\n",
       "      <td>-0.109088</td>\n",
       "      <td>-0.760173</td>\n",
       "    </tr>\n",
       "    <tr>\n",
       "      <th>5</th>\n",
       "      <td>-0.089797</td>\n",
       "      <td>0.028988</td>\n",
       "      <td>-0.763462</td>\n",
       "    </tr>\n",
       "    <tr>\n",
       "      <th>6</th>\n",
       "      <td>-0.161719</td>\n",
       "      <td>-0.105996</td>\n",
       "      <td>1.821498</td>\n",
       "    </tr>\n",
       "    <tr>\n",
       "      <th>...</th>\n",
       "      <td>...</td>\n",
       "      <td>...</td>\n",
       "      <td>...</td>\n",
       "    </tr>\n",
       "    <tr>\n",
       "      <th>9687</th>\n",
       "      <td>-0.202704</td>\n",
       "      <td>-0.322725</td>\n",
       "      <td>1.880696</td>\n",
       "    </tr>\n",
       "    <tr>\n",
       "      <th>9688</th>\n",
       "      <td>-0.202347</td>\n",
       "      <td>-0.322725</td>\n",
       "      <td>2.462805</td>\n",
       "    </tr>\n",
       "    <tr>\n",
       "      <th>9690</th>\n",
       "      <td>-0.202651</td>\n",
       "      <td>-0.321759</td>\n",
       "      <td>1.890562</td>\n",
       "    </tr>\n",
       "    <tr>\n",
       "      <th>9694</th>\n",
       "      <td>-0.203027</td>\n",
       "      <td>-0.322822</td>\n",
       "      <td>2.097753</td>\n",
       "    </tr>\n",
       "    <tr>\n",
       "      <th>9695</th>\n",
       "      <td>-0.202224</td>\n",
       "      <td>-0.322822</td>\n",
       "      <td>2.041845</td>\n",
       "    </tr>\n",
       "  </tbody>\n",
       "</table>\n",
       "<p>5670 rows × 3 columns</p>\n",
       "</div>"
      ],
      "text/plain": [
       "      Monetary  Frequency   Recency\n",
       "0     0.437735   2.600455 -0.763462\n",
       "1     0.059736   0.412587 -0.763462\n",
       "2    -0.083919  -0.109088 -0.760173\n",
       "5    -0.089797   0.028988 -0.763462\n",
       "6    -0.161719  -0.105996  1.821498\n",
       "...        ...        ...       ...\n",
       "9687 -0.202704  -0.322725  1.880696\n",
       "9688 -0.202347  -0.322725  2.462805\n",
       "9690 -0.202651  -0.321759  1.890562\n",
       "9694 -0.203027  -0.322822  2.097753\n",
       "9695 -0.202224  -0.322822  2.041845\n",
       "\n",
       "[5670 rows x 3 columns]"
      ]
     },
     "execution_count": 45,
     "metadata": {},
     "output_type": "execute_result"
    }
   ],
   "source": [
    "X = scaled_features_df.copy()\n",
    "X"
   ]
  },
  {
   "cell_type": "code",
   "execution_count": 46,
   "id": "c69a7e59",
   "metadata": {},
   "outputs": [
    {
     "data": {
      "image/png": "[encoded data removed]",
      "text/plain": [
       "<Figure size 432x288 with 1 Axes>"
      ]
     },
     "metadata": {
      "needs_background": "light"
     },
     "output_type": "display_data"
    }
   ],
   "source": [
    "# Determine the optimal customer segmentation cluster by reducing the within cluster sum of squares\n",
    "\n",
    "from sklearn.cluster import KMeans\n",
    "wcss = []\n",
    "for i in range(1, 11):\n",
    "    kmeans = KMeans(n_clusters = i, init = 'k-means++', random_state = 42)\n",
    "    kmeans.fit(X)\n",
    "    wcss.append(kmeans.inertia_)\n",
    "plt.plot(range(1, 11), wcss)\n",
    "plt.title('The Elbow Method')\n",
    "plt.xlabel('Number of clusters')\n",
    "plt.ylabel('WCSS')\n",
    "plt.show()"
   ]
  },
  {
   "cell_type": "code",
   "execution_count": 47,
   "id": "0dd788df",
   "metadata": {},
   "outputs": [],
   "source": [
    "#use the kmeans cluster with 4 clusters based Elbow method where 4 clusters seem optimal\n",
    "kmeans = KMeans(n_clusters = 4, init = 'k-means++', random_state = 42)\n",
    "kmeans.fit(X)\n",
    "y_hc = kmeans.fit_predict(X)"
   ]
  },
  {
   "cell_type": "code",
   "execution_count": 48,
   "id": "db4b127c",
   "metadata": {},
   "outputs": [
    {
     "data": {
      "text/html": [
       "<div>\n",
       "<style scoped>\n",
       "    .dataframe tbody tr th:only-of-type {\n",
       "        vertical-align: middle;\n",
       "    }\n",
       "\n",
       "    .dataframe tbody tr th {\n",
       "        vertical-align: top;\n",
       "    }\n",
       "\n",
       "    .dataframe thead th {\n",
       "        text-align: right;\n",
       "    }\n",
       "</style>\n",
       "<table border=\"1\" class=\"dataframe\">\n",
       "  <thead>\n",
       "    <tr style=\"text-align: right;\">\n",
       "      <th></th>\n",
       "      <th>Monetary</th>\n",
       "      <th>Frequency</th>\n",
       "      <th>Recency</th>\n",
       "      <th>CLUSTERS</th>\n",
       "    </tr>\n",
       "  </thead>\n",
       "  <tbody>\n",
       "    <tr>\n",
       "      <th>7568</th>\n",
       "      <td>-0.200244</td>\n",
       "      <td>-0.322145</td>\n",
       "      <td>-0.747018</td>\n",
       "      <td>1</td>\n",
       "    </tr>\n",
       "    <tr>\n",
       "      <th>1850</th>\n",
       "      <td>-0.018247</td>\n",
       "      <td>0.303498</td>\n",
       "      <td>-0.763462</td>\n",
       "      <td>1</td>\n",
       "    </tr>\n",
       "    <tr>\n",
       "      <th>3021</th>\n",
       "      <td>-0.057723</td>\n",
       "      <td>-0.026957</td>\n",
       "      <td>-0.763462</td>\n",
       "      <td>1</td>\n",
       "    </tr>\n",
       "    <tr>\n",
       "      <th>3277</th>\n",
       "      <td>4.365453</td>\n",
       "      <td>3.367073</td>\n",
       "      <td>-0.763462</td>\n",
       "      <td>2</td>\n",
       "    </tr>\n",
       "    <tr>\n",
       "      <th>8951</th>\n",
       "      <td>-0.201500</td>\n",
       "      <td>-0.319053</td>\n",
       "      <td>1.936604</td>\n",
       "      <td>0</td>\n",
       "    </tr>\n",
       "    <tr>\n",
       "      <th>4312</th>\n",
       "      <td>-0.202277</td>\n",
       "      <td>-0.322242</td>\n",
       "      <td>2.028690</td>\n",
       "      <td>0</td>\n",
       "    </tr>\n",
       "    <tr>\n",
       "      <th>1657</th>\n",
       "      <td>1.133888</td>\n",
       "      <td>1.026636</td>\n",
       "      <td>-0.763462</td>\n",
       "      <td>1</td>\n",
       "    </tr>\n",
       "    <tr>\n",
       "      <th>8504</th>\n",
       "      <td>-0.202299</td>\n",
       "      <td>-0.321855</td>\n",
       "      <td>-0.747018</td>\n",
       "      <td>1</td>\n",
       "    </tr>\n",
       "    <tr>\n",
       "      <th>7168</th>\n",
       "      <td>-0.202725</td>\n",
       "      <td>-0.322822</td>\n",
       "      <td>-0.388544</td>\n",
       "      <td>1</td>\n",
       "    </tr>\n",
       "    <tr>\n",
       "      <th>6190</th>\n",
       "      <td>-0.090697</td>\n",
       "      <td>-0.241657</td>\n",
       "      <td>-0.756884</td>\n",
       "      <td>1</td>\n",
       "    </tr>\n",
       "  </tbody>\n",
       "</table>\n",
       "</div>"
      ],
      "text/plain": [
       "      Monetary  Frequency   Recency  CLUSTERS\n",
       "7568 -0.200244  -0.322145 -0.747018         1\n",
       "1850 -0.018247   0.303498 -0.763462         1\n",
       "3021 -0.057723  -0.026957 -0.763462         1\n",
       "3277  4.365453   3.367073 -0.763462         2\n",
       "8951 -0.201500  -0.319053  1.936604         0\n",
       "4312 -0.202277  -0.322242  2.028690         0\n",
       "1657  1.133888   1.026636 -0.763462         1\n",
       "8504 -0.202299  -0.321855 -0.747018         1\n",
       "7168 -0.202725  -0.322822 -0.388544         1\n",
       "6190 -0.090697  -0.241657 -0.756884         1"
      ]
     },
     "execution_count": 48,
     "metadata": {},
     "output_type": "execute_result"
    }
   ],
   "source": [
    "# Set up dataframe with cluster labels with a copy of the exisitng dataframe\n",
    "Xnew = X.copy()\n",
    "Xnew[\"CLUSTERS\"] = y_hc\n",
    "Xnew.sample(10, random_state=0)"
   ]
  },
  {
   "cell_type": "code",
   "execution_count": 49,
   "id": "e5563ea1",
   "metadata": {},
   "outputs": [
    {
     "data": {
      "text/plain": [
       "1    3898\n",
       "0    1543\n",
       "2     201\n",
       "3      28\n",
       "Name: CLUSTERS, dtype: int64"
      ]
     },
     "execution_count": 49,
     "metadata": {},
     "output_type": "execute_result"
    }
   ],
   "source": [
    "# Count the number of observations in each cluster\n",
    "Xnew['CLUSTERS'].value_counts()"
   ]
  },
  {
   "cell_type": "code",
   "execution_count": 50,
   "id": "abee19a7",
   "metadata": {},
   "outputs": [
    {
     "data": {
      "text/plain": [
       "array([[ 0.43773488,  2.60045486, -0.76346164],\n",
       "       [ 0.05973641,  0.41258721, -0.76346164],\n",
       "       [-0.08391938, -0.10908825, -0.76017289],\n",
       "       ...,\n",
       "       [-0.20265095, -0.32175869,  1.89056189],\n",
       "       [-0.20302694, -0.32282155,  2.09775332],\n",
       "       [-0.20222359, -0.32282155,  2.04184452]])"
      ]
     },
     "execution_count": 50,
     "metadata": {},
     "output_type": "execute_result"
    }
   ],
   "source": [
    "# prepare data for 2 axis and 3 axis visualisation\n",
    "xval = Xnew.iloc[:,[0,1,2]].values\n",
    "xval"
   ]
  },
  {
   "cell_type": "code",
   "execution_count": 51,
   "id": "293cbd90",
   "metadata": {},
   "outputs": [
    {
     "data": {
      "image/png": "[encoded data removed]",
      "text/plain": [
       "<Figure size 432x288 with 1 Axes>"
      ]
     },
     "metadata": {
      "needs_background": "light"
     },
     "output_type": "display_data"
    }
   ],
   "source": [
    "# Use scatter plot to \n",
    "plt.scatter(xval[y_hc == 0, 0], xval[y_hc == 0,2], s = 10, c = 'red', label = 'Cluster 1')\n",
    "plt.scatter(xval[y_hc == 1, 0], xval[y_hc == 1, 2], s = 10, c = 'blue', label = 'Cluster 2')\n",
    "plt.scatter(xval[y_hc == 2, 0], xval[y_hc == 2, 2], s = 10, c = 'green', label = 'Cluster 3')\n",
    "plt.scatter(xval[y_hc == 3, 0], xval[y_hc == 3, 2], s = 10, c = 'orange', label = 'Cluster 4')\n",
    "plt.scatter(kmeans.cluster_centers_[:, 0], kmeans.cluster_centers_[:, 1], s = 20, c = 'yellow', label = 'Centroids')\n",
    "plt.title('Clusters of pattern')\n",
    "plt.xlabel('Monetary')\n",
    "plt.ylabel('Recency')\n",
    "plt.ylim((-2,2))\n",
    "plt.legend()\n",
    "plt.show()"
   ]
  },
  {
   "cell_type": "code",
   "execution_count": 52,
   "id": "ac2acb4c",
   "metadata": {},
   "outputs": [],
   "source": [
    "from mpl_toolkits.mplot3d import Axes3D\n",
    "import plotly.graph_objs as go\n",
    "from plotly import tools\n",
    "from plotly.subplots import make_subplots\n",
    "import plotly.offline as py"
   ]
  },
  {
   "cell_type": "code",
   "execution_count": 53,
   "id": "db3e7f46",
   "metadata": {},
   "outputs": [
    {
     "data": {
      "image/png": "[encoded data removed]",
      "text/plain": [
       "<Figure size 598.875x540 with 12 Axes>"
      ]
     },
     "metadata": {
      "needs_background": "light"
     },
     "output_type": "display_data"
    }
   ],
   "source": [
    "# Plot using seaborn for pairwise visualisation and interpretation\n",
    "var = [\"Monetary\",\"Frequency\",\"Recency\"]\n",
    "\n",
    "ax = sns.pairplot(Xnew,vars=var,hue=\"CLUSTERS\", palette=sns.color_palette(\"hls\",4))\n",
    "\n",
    "plt.show()"
   ]
  },
  {
   "cell_type": "code",
   "execution_count": null,
   "id": "6c64db3a",
   "metadata": {},
   "outputs": [],
   "source": []
  }
 ],
 "metadata": {
  "kernelspec": {
   "display_name": "Python 3",
   "language": "python",
   "name": "python3"
  },
  "language_info": {
   "codemirror_mode": {
    "name": "ipython",
    "version": 3
   },
   "file_extension": ".py",
   "mimetype": "text/x-python",
   "name": "python",
   "nbconvert_exporter": "python",
   "pygments_lexer": "ipython3",
   "version": "3.8.8"
  }
 },
 "nbformat": 4,
 "nbformat_minor": 5
}
