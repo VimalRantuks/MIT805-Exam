{
 "cells": [
  {
   "cell_type": "code",
   "execution_count": 1,
   "id": "358b5265",
   "metadata": {},
   "outputs": [
    {
     "name": "stderr",
     "output_type": "stream",
     "text": [
      "C:\\Users\\ranch\\anaconda3\\lib\\site-packages\\IPython\\core\\interactiveshell.py:3165: DtypeWarning: Columns (6,14) have mixed types.Specify dtype option on import or set low_memory=False.\n",
      "  has_raised = await self.run_ast_nodes(code_ast.body, cell_name,\n"
     ]
    }
   ],
   "source": [
    "import pandas as pd\n",
    "import numpy as np\n",
    "\n",
    "df1 = pd.read_csv(\"C:/Users/ranch/OneDrive/Documents/MIT 805/Iowa_Liquor_Sales.csv\")\n"
   ]
  },
  {
   "cell_type": "code",
   "execution_count": null,
   "id": "bd6d54a9",
   "metadata": {},
   "outputs": [],
   "source": [
    "df1"
   ]
  },
  {
   "cell_type": "code",
   "execution_count": 53,
   "id": "899be480",
   "metadata": {},
   "outputs": [
    {
     "data": {
      "text/plain": [
       "array(['view', 'cart', 'remove_from_cart', 'purchase'], dtype=object)"
      ]
     },
     "execution_count": 53,
     "metadata": {},
     "output_type": "execute_result"
    }
   ],
   "source": [
    "df[\"event_type\"].unique()"
   ]
  },
  {
   "cell_type": "code",
   "execution_count": 54,
   "id": "d25885cf",
   "metadata": {},
   "outputs": [
    {
     "data": {
      "text/html": [
       "<div>\n",
       "<style scoped>\n",
       "    .dataframe tbody tr th:only-of-type {\n",
       "        vertical-align: middle;\n",
       "    }\n",
       "\n",
       "    .dataframe tbody tr th {\n",
       "        vertical-align: top;\n",
       "    }\n",
       "\n",
       "    .dataframe thead th {\n",
       "        text-align: right;\n",
       "    }\n",
       "</style>\n",
       "<table border=\"1\" class=\"dataframe\">\n",
       "  <thead>\n",
       "    <tr style=\"text-align: right;\">\n",
       "      <th></th>\n",
       "      <th>product_id</th>\n",
       "      <th>category_id</th>\n",
       "      <th>price</th>\n",
       "      <th>user_id</th>\n",
       "    </tr>\n",
       "  </thead>\n",
       "  <tbody>\n",
       "    <tr>\n",
       "      <th>count</th>\n",
       "      <td>8.421434e+06</td>\n",
       "      <td>8.421434e+06</td>\n",
       "      <td>8.421434e+06</td>\n",
       "      <td>8.421434e+06</td>\n",
       "    </tr>\n",
       "    <tr>\n",
       "      <th>mean</th>\n",
       "      <td>5.498318e+06</td>\n",
       "      <td>1.560378e+18</td>\n",
       "      <td>8.621121e+00</td>\n",
       "      <td>5.391882e+08</td>\n",
       "    </tr>\n",
       "    <tr>\n",
       "      <th>std</th>\n",
       "      <td>1.286741e+06</td>\n",
       "      <td>1.773420e+17</td>\n",
       "      <td>1.961062e+01</td>\n",
       "      <td>8.886411e+07</td>\n",
       "    </tr>\n",
       "    <tr>\n",
       "      <th>min</th>\n",
       "      <td>3.752000e+03</td>\n",
       "      <td>1.487580e+18</td>\n",
       "      <td>-7.937000e+01</td>\n",
       "      <td>4.654960e+05</td>\n",
       "    </tr>\n",
       "    <tr>\n",
       "      <th>25%</th>\n",
       "      <td>5.728072e+06</td>\n",
       "      <td>1.487580e+18</td>\n",
       "      <td>2.190000e+00</td>\n",
       "      <td>5.017526e+08</td>\n",
       "    </tr>\n",
       "    <tr>\n",
       "      <th>50%</th>\n",
       "      <td>5.813488e+06</td>\n",
       "      <td>1.487580e+18</td>\n",
       "      <td>4.110000e+00</td>\n",
       "      <td>5.720076e+08</td>\n",
       "    </tr>\n",
       "    <tr>\n",
       "      <th>75%</th>\n",
       "      <td>5.862067e+06</td>\n",
       "      <td>1.487580e+18</td>\n",
       "      <td>7.140000e+00</td>\n",
       "      <td>6.026324e+08</td>\n",
       "    </tr>\n",
       "    <tr>\n",
       "      <th>max</th>\n",
       "      <td>5.932595e+06</td>\n",
       "      <td>2.242903e+18</td>\n",
       "      <td>3.277800e+02</td>\n",
       "      <td>6.220902e+08</td>\n",
       "    </tr>\n",
       "  </tbody>\n",
       "</table>\n",
       "</div>"
      ],
      "text/plain": [
       "         product_id   category_id         price       user_id\n",
       "count  8.421434e+06  8.421434e+06  8.421434e+06  8.421434e+06\n",
       "mean   5.498318e+06  1.560378e+18  8.621121e+00  5.391882e+08\n",
       "std    1.286741e+06  1.773420e+17  1.961062e+01  8.886411e+07\n",
       "min    3.752000e+03  1.487580e+18 -7.937000e+01  4.654960e+05\n",
       "25%    5.728072e+06  1.487580e+18  2.190000e+00  5.017526e+08\n",
       "50%    5.813488e+06  1.487580e+18  4.110000e+00  5.720076e+08\n",
       "75%    5.862067e+06  1.487580e+18  7.140000e+00  6.026324e+08\n",
       "max    5.932595e+06  2.242903e+18  3.277800e+02  6.220902e+08"
      ]
     },
     "execution_count": 54,
     "metadata": {},
     "output_type": "execute_result"
    }
   ],
   "source": [
    "df.describe()"
   ]
  },
  {
   "cell_type": "code",
   "execution_count": 55,
   "id": "f66181fa",
   "metadata": {},
   "outputs": [
    {
     "data": {
      "text/plain": [
       "737093"
      ]
     },
     "execution_count": 55,
     "metadata": {},
     "output_type": "execute_result"
    }
   ],
   "source": [
    "df[\"user_id\"].nunique()"
   ]
  },
  {
   "cell_type": "code",
   "execution_count": 56,
   "id": "36fa895f",
   "metadata": {},
   "outputs": [],
   "source": [
    "df_purchases = df.loc[df['event_type'] == \"purchase\"]"
   ]
  },
  {
   "cell_type": "code",
   "execution_count": 57,
   "id": "cb632c62",
   "metadata": {},
   "outputs": [
    {
     "name": "stdout",
     "output_type": "stream",
     "text": [
      "Event time: False\n",
      "User id: False\n",
      "Price: False\n"
     ]
    }
   ],
   "source": [
    "event_null = df_purchases['event_time'].isnull().values.any()\n",
    "user_null = df_purchases['user_id'].isnull().values.any()\n",
    "price_null = df_purchases['price'].isnull().values.any()\n",
    "print(f\"Event time: {event_null}\\nUser id: {user_null}\\nPrice: {price_null}\")"
   ]
  },
  {
   "cell_type": "code",
   "execution_count": 58,
   "id": "bc6d6d4c",
   "metadata": {},
   "outputs": [
    {
     "data": {
      "text/plain": [
       "49473"
      ]
     },
     "execution_count": 58,
     "metadata": {},
     "output_type": "execute_result"
    }
   ],
   "source": [
    "df_purchases[\"user_id\"].nunique()"
   ]
  },
  {
   "cell_type": "code",
   "execution_count": 59,
   "id": "c202f9e8",
   "metadata": {},
   "outputs": [
    {
     "data": {
      "text/plain": [
       "event_time        object\n",
       "event_type        object\n",
       "product_id         int64\n",
       "category_id        int64\n",
       "category_code     object\n",
       "brand             object\n",
       "price            float64\n",
       "user_id            int64\n",
       "user_session      object\n",
       "dtype: object"
      ]
     },
     "execution_count": 59,
     "metadata": {},
     "output_type": "execute_result"
    }
   ],
   "source": [
    "df_purchases.dtypes"
   ]
  },
  {
   "cell_type": "code",
   "execution_count": 60,
   "id": "0c95be27",
   "metadata": {},
   "outputs": [
    {
     "data": {
      "text/html": [
       "<div>\n",
       "<style scoped>\n",
       "    .dataframe tbody tr th:only-of-type {\n",
       "        vertical-align: middle;\n",
       "    }\n",
       "\n",
       "    .dataframe tbody tr th {\n",
       "        vertical-align: top;\n",
       "    }\n",
       "\n",
       "    .dataframe thead th {\n",
       "        text-align: right;\n",
       "    }\n",
       "</style>\n",
       "<table border=\"1\" class=\"dataframe\">\n",
       "  <thead>\n",
       "    <tr style=\"text-align: right;\">\n",
       "      <th></th>\n",
       "      <th>product_id</th>\n",
       "      <th>category_id</th>\n",
       "      <th>price</th>\n",
       "      <th>user_id</th>\n",
       "    </tr>\n",
       "  </thead>\n",
       "  <tbody>\n",
       "    <tr>\n",
       "      <th>count</th>\n",
       "      <td>5.057900e+05</td>\n",
       "      <td>5.057900e+05</td>\n",
       "      <td>505790.000000</td>\n",
       "      <td>5.057900e+05</td>\n",
       "    </tr>\n",
       "    <tr>\n",
       "      <th>mean</th>\n",
       "      <td>5.459517e+06</td>\n",
       "      <td>1.557037e+18</td>\n",
       "      <td>4.997775</td>\n",
       "      <td>5.296161e+08</td>\n",
       "    </tr>\n",
       "    <tr>\n",
       "      <th>std</th>\n",
       "      <td>1.350893e+06</td>\n",
       "      <td>1.746934e+17</td>\n",
       "      <td>8.936732</td>\n",
       "      <td>9.569557e+07</td>\n",
       "    </tr>\n",
       "    <tr>\n",
       "      <th>min</th>\n",
       "      <td>3.762000e+03</td>\n",
       "      <td>1.487580e+18</td>\n",
       "      <td>-79.370000</td>\n",
       "      <td>1.028034e+07</td>\n",
       "    </tr>\n",
       "    <tr>\n",
       "      <th>25%</th>\n",
       "      <td>5.723496e+06</td>\n",
       "      <td>1.487580e+18</td>\n",
       "      <td>1.590000</td>\n",
       "      <td>4.832967e+08</td>\n",
       "    </tr>\n",
       "    <tr>\n",
       "      <th>50%</th>\n",
       "      <td>5.809911e+06</td>\n",
       "      <td>1.487580e+18</td>\n",
       "      <td>3.020000</td>\n",
       "      <td>5.636975e+08</td>\n",
       "    </tr>\n",
       "    <tr>\n",
       "      <th>75%</th>\n",
       "      <td>5.857321e+06</td>\n",
       "      <td>1.487580e+18</td>\n",
       "      <td>5.560000</td>\n",
       "      <td>6.011931e+08</td>\n",
       "    </tr>\n",
       "    <tr>\n",
       "      <th>max</th>\n",
       "      <td>5.932583e+06</td>\n",
       "      <td>2.242903e+18</td>\n",
       "      <td>327.780000</td>\n",
       "      <td>6.220732e+08</td>\n",
       "    </tr>\n",
       "  </tbody>\n",
       "</table>\n",
       "</div>"
      ],
      "text/plain": [
       "         product_id   category_id          price       user_id\n",
       "count  5.057900e+05  5.057900e+05  505790.000000  5.057900e+05\n",
       "mean   5.459517e+06  1.557037e+18       4.997775  5.296161e+08\n",
       "std    1.350893e+06  1.746934e+17       8.936732  9.569557e+07\n",
       "min    3.762000e+03  1.487580e+18     -79.370000  1.028034e+07\n",
       "25%    5.723496e+06  1.487580e+18       1.590000  4.832967e+08\n",
       "50%    5.809911e+06  1.487580e+18       3.020000  5.636975e+08\n",
       "75%    5.857321e+06  1.487580e+18       5.560000  6.011931e+08\n",
       "max    5.932583e+06  2.242903e+18     327.780000  6.220732e+08"
      ]
     },
     "execution_count": 60,
     "metadata": {},
     "output_type": "execute_result"
    }
   ],
   "source": [
    "df_purchases.describe()"
   ]
  },
  {
   "cell_type": "code",
   "execution_count": null,
   "id": "66323944",
   "metadata": {},
   "outputs": [],
   "source": []
  }
 ],
 "metadata": {
  "kernelspec": {
   "display_name": "Python 3",
   "language": "python",
   "name": "python3"
  },
  "language_info": {
   "codemirror_mode": {
    "name": "ipython",
    "version": 3
   },
   "file_extension": ".py",
   "mimetype": "text/x-python",
   "name": "python",
   "nbconvert_exporter": "python",
   "pygments_lexer": "ipython3",
   "version": "3.8.8"
  }
 },
 "nbformat": 4,
 "nbformat_minor": 5
}
